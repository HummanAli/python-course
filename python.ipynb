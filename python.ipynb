{
  "cells": [
    {
      "cell_type": "code",
      "source": [
        "cities=[\"Kandiaro:\",\"Karachi:\",\"Lahore:\"]"
      ],
      "metadata": {
        "id": "swIbUDBIvc1u"
      },
      "execution_count": null,
      "outputs": []
    },
    {
      "cell_type": "code",
      "source": [
        "print(cities[1])"
      ],
      "metadata": {
        "id": "nGntvL-GxZQ6",
        "outputId": "4bec06ec-4852-4eeb-da11-df02bce74ce3",
        "colab": {
          "base_uri": "https://localhost:8080/"
        }
      },
      "execution_count": null,
      "outputs": [
        {
          "output_type": "stream",
          "name": "stdout",
          "text": [
            "Karachi:\n"
          ]
        }
      ]
    },
    {
      "cell_type": "code",
      "source": [
        "cities.append(\"Quetta\")"
      ],
      "metadata": {
        "id": "BU6mggXxyGaO"
      },
      "execution_count": null,
      "outputs": []
    },
    {
      "cell_type": "code",
      "source": [
        "cities,"
      ],
      "metadata": {
        "id": "Xaf54gDRyOZn",
        "outputId": "e6d8bcae-af10-499f-d8d4-03d1e893893d",
        "colab": {
          "base_uri": "https://localhost:8080/"
        }
      },
      "execution_count": null,
      "outputs": [
        {
          "output_type": "execute_result",
          "data": {
            "text/plain": [
              "(['Kandiaro:', 'Karachi:', 'Lahore:', 'Quetta'],)"
            ]
          },
          "metadata": {},
          "execution_count": 9
        }
      ]
    },
    {
      "cell_type": "code",
      "source": [
        "cities.insert(0,\"New York\")"
      ],
      "metadata": {
        "id": "ExdFt52ayaGP"
      },
      "execution_count": null,
      "outputs": []
    },
    {
      "cell_type": "code",
      "source": [
        "cities"
      ],
      "metadata": {
        "id": "e9zGRcWdyny3",
        "outputId": "2c1b5e22-5bd6-421c-90b8-c891b12f5b96",
        "colab": {
          "base_uri": "https://localhost:8080/"
        }
      },
      "execution_count": null,
      "outputs": [
        {
          "output_type": "execute_result",
          "data": {
            "text/plain": [
              "['New York', 'Kandiaro:', 'Karachi:', 'Lahore:', 'Quetta']"
            ]
          },
          "metadata": {},
          "execution_count": 11
        }
      ]
    },
    {
      "cell_type": "code",
      "source": [
        "cities[2]=\"Houston\""
      ],
      "metadata": {
        "id": "Bj6qNuy6ysKn"
      },
      "execution_count": null,
      "outputs": []
    },
    {
      "cell_type": "code",
      "source": [
        "cities[::-1]"
      ],
      "metadata": {
        "id": "emJJgNwuy9GG",
        "outputId": "0424d7ae-27ce-491c-f826-420a21c8909a",
        "colab": {
          "base_uri": "https://localhost:8080/"
        }
      },
      "execution_count": null,
      "outputs": [
        {
          "output_type": "execute_result",
          "data": {
            "text/plain": [
              "['Quetta', 'Lahore:', 'Houston', 'Kandiaro:', 'New York']"
            ]
          },
          "metadata": {},
          "execution_count": 16
        }
      ]
    },
    {
      "cell_type": "code",
      "source": [
        "cities[::1]"
      ],
      "metadata": {
        "id": "grARJ_100cMq",
        "outputId": "18a1585a-59d8-44f8-d7ee-c1a1359d3c1d",
        "colab": {
          "base_uri": "https://localhost:8080/"
        }
      },
      "execution_count": null,
      "outputs": [
        {
          "output_type": "execute_result",
          "data": {
            "text/plain": [
              "['New York', 'Kandiaro:', 'Houston', 'Lahore:', 'Quetta']"
            ]
          },
          "metadata": {},
          "execution_count": 17
        }
      ]
    },
    {
      "cell_type": "code",
      "source": [
        "cities[:2:]"
      ],
      "metadata": {
        "id": "azchkQId06UF",
        "outputId": "97070a68-610b-4569-a459-189a238fa8df",
        "colab": {
          "base_uri": "https://localhost:8080/"
        }
      },
      "execution_count": null,
      "outputs": [
        {
          "output_type": "execute_result",
          "data": {
            "text/plain": [
              "['New York', 'Kandiaro:']"
            ]
          },
          "metadata": {},
          "execution_count": 18
        }
      ]
    },
    {
      "cell_type": "code",
      "source": [
        "cities[3::]"
      ],
      "metadata": {
        "id": "O82aoJFQ1E4M",
        "outputId": "64390159-24b4-46e0-9644-95f9ab7a63cb",
        "colab": {
          "base_uri": "https://localhost:8080/"
        }
      },
      "execution_count": null,
      "outputs": [
        {
          "output_type": "execute_result",
          "data": {
            "text/plain": [
              "['Lahore:', 'Quetta']"
            ]
          },
          "metadata": {},
          "execution_count": 19
        }
      ]
    },
    {
      "cell_type": "code",
      "source": [
        "cities[ :0:-1]"
      ],
      "metadata": {
        "id": "zYEVXIx11Kh2",
        "outputId": "9905e48a-e67c-4b3f-b58b-8cf27f56080b",
        "colab": {
          "base_uri": "https://localhost:8080/"
        }
      },
      "execution_count": null,
      "outputs": [
        {
          "output_type": "execute_result",
          "data": {
            "text/plain": [
              "['Quetta', 'Lahore:', 'Houston', 'Kandiaro:']"
            ]
          },
          "metadata": {},
          "execution_count": 22
        }
      ]
    },
    {
      "cell_type": "code",
      "source": [
        "del cities[2]"
      ],
      "metadata": {
        "id": "WJmjBIL21aMh"
      },
      "execution_count": null,
      "outputs": []
    },
    {
      "cell_type": "code",
      "source": [
        "cities"
      ],
      "metadata": {
        "id": "ArniOcH01jY4",
        "outputId": "6c916394-010c-4946-ef09-dc9f61090d8d",
        "colab": {
          "base_uri": "https://localhost:8080/"
        }
      },
      "execution_count": null,
      "outputs": [
        {
          "output_type": "execute_result",
          "data": {
            "text/plain": [
              "['New York', 'Kandiaro:', 'Lahore:', 'Quetta']"
            ]
          },
          "metadata": {},
          "execution_count": 24
        }
      ]
    },
    {
      "cell_type": "code",
      "source": [
        "cities.remove(\"Quetta\")"
      ],
      "metadata": {
        "id": "CY04aXiQ1xZZ"
      },
      "execution_count": null,
      "outputs": []
    },
    {
      "cell_type": "code",
      "source": [
        "cities"
      ],
      "metadata": {
        "id": "DkK6NcwK19wk",
        "outputId": "ed7a9661-4364-4ab8-c1c4-7c81e3de086b",
        "colab": {
          "base_uri": "https://localhost:8080/"
        }
      },
      "execution_count": null,
      "outputs": [
        {
          "output_type": "execute_result",
          "data": {
            "text/plain": [
              "['New York', 'Kandiaro:', 'Lahore:']"
            ]
          },
          "metadata": {},
          "execution_count": 26
        }
      ]
    },
    {
      "cell_type": "code",
      "source": [
        "cities.pop(0)"
      ],
      "metadata": {
        "id": "sFwO_7SP2Pkb",
        "outputId": "1cce215e-26ed-4d34-b545-058d7f848b30",
        "colab": {
          "base_uri": "https://localhost:8080/",
          "height": 35
        }
      },
      "execution_count": null,
      "outputs": [
        {
          "output_type": "execute_result",
          "data": {
            "text/plain": [
              "'New York'"
            ],
            "application/vnd.google.colaboratory.intrinsic+json": {
              "type": "string"
            }
          },
          "metadata": {},
          "execution_count": 28
        }
      ]
    },
    {
      "cell_type": "code",
      "source": [
        "cities"
      ],
      "metadata": {
        "id": "T1X9uc2W2a59",
        "outputId": "643df4c0-05e3-4a74-d715-2307614b6d6c",
        "colab": {
          "base_uri": "https://localhost:8080/"
        }
      },
      "execution_count": null,
      "outputs": [
        {
          "output_type": "execute_result",
          "data": {
            "text/plain": [
              "['Lahore:']"
            ]
          },
          "metadata": {},
          "execution_count": 29
        }
      ]
    },
    {
      "cell_type": "code",
      "source": [
        "for i in range(10):\n",
        "  print(i)"
      ],
      "metadata": {
        "id": "kh9tjm-e2qMs",
        "outputId": "664dfcec-edd9-4103-e9ef-655b70e8955f",
        "colab": {
          "base_uri": "https://localhost:8080/"
        }
      },
      "execution_count": null,
      "outputs": [
        {
          "output_type": "stream",
          "name": "stdout",
          "text": [
            "0\n",
            "1\n",
            "2\n",
            "3\n",
            "4\n",
            "5\n",
            "6\n",
            "7\n",
            "8\n",
            "9\n"
          ]
        }
      ]
    },
    {
      "cell_type": "code",
      "source": [
        "for i in range(1,11):\n",
        "  print(\"2x\",i, \"=\",i*2)"
      ],
      "metadata": {
        "id": "gpaHus3e4rfo",
        "outputId": "af52bc24-c3dc-4861-92a9-7a74bcc280b8",
        "colab": {
          "base_uri": "https://localhost:8080/"
        }
      },
      "execution_count": null,
      "outputs": [
        {
          "output_type": "stream",
          "name": "stdout",
          "text": [
            "2x 1 = 2\n",
            "2x 2 = 4\n",
            "2x 3 = 6\n",
            "2x 4 = 8\n",
            "2x 5 = 10\n",
            "2x 6 = 12\n",
            "2x 7 = 14\n",
            "2x 8 = 16\n",
            "2x 9 = 18\n",
            "2x 10 = 20\n"
          ]
        }
      ]
    },
    {
      "cell_type": "code",
      "source": [
        "for i in range(1,11):\n",
        "  print(\"5x\",i, \"=\",i*5)"
      ],
      "metadata": {
        "id": "LfyItbqL6QZC",
        "outputId": "22061b7b-1722-4ba5-906b-ec8ed78fe4bf",
        "colab": {
          "base_uri": "https://localhost:8080/"
        }
      },
      "execution_count": null,
      "outputs": [
        {
          "output_type": "stream",
          "name": "stdout",
          "text": [
            "5x 1 = 5\n",
            "5x 2 = 10\n",
            "5x 3 = 15\n",
            "5x 4 = 20\n",
            "5x 5 = 25\n",
            "5x 6 = 30\n",
            "5x 7 = 35\n",
            "5x 8 = 40\n",
            "5x 9 = 45\n",
            "5x 10 = 50\n"
          ]
        }
      ]
    },
    {
      "cell_type": "code",
      "source": [
        "for i in range(1,11):\n",
        "  print(\"100x\",i, \"=\",i*100)"
      ],
      "metadata": {
        "id": "Sx6eKNmv6q3T",
        "outputId": "aaa4aa56-56bd-47d5-da50-695626b6c83f",
        "colab": {
          "base_uri": "https://localhost:8080/"
        }
      },
      "execution_count": null,
      "outputs": [
        {
          "output_type": "stream",
          "name": "stdout",
          "text": [
            "100x 1 = 100\n",
            "100x 2 = 200\n",
            "100x 3 = 300\n",
            "100x 4 = 400\n",
            "100x 5 = 500\n",
            "100x 6 = 600\n",
            "100x 7 = 700\n",
            "100x 8 = 800\n",
            "100x 9 = 900\n",
            "100x 10 = 1000\n"
          ]
        }
      ]
    },
    {
      "cell_type": "code",
      "source": [
        "num = int(input(\"Number: \"))\n",
        "\n",
        "\n",
        "for i in range(1, 10):\n",
        "  print(num ,\"x\",i, \"=\",i*num)"
      ],
      "metadata": {
        "id": "udeK2Kgk7qrv",
        "outputId": "9f0f05b3-78c1-4abe-f396-4de0b92b2640",
        "colab": {
          "base_uri": "https://localhost:8080/"
        }
      },
      "execution_count": null,
      "outputs": [
        {
          "output_type": "stream",
          "name": "stdout",
          "text": [
            "Number: 5\n",
            "5 x 1 = 5\n",
            "5 x 2 = 10\n",
            "5 x 3 = 15\n",
            "5 x 4 = 20\n",
            "5 x 5 = 25\n",
            "5 x 6 = 30\n",
            "5 x 7 = 35\n",
            "5 x 8 = 40\n",
            "5 x 9 = 45\n"
          ]
        }
      ]
    },
    {
      "cell_type": "code",
      "source": [
        "num = int(input(\"Number: \"))\n",
        "\n",
        "\n",
        "for i in range(1, 10):\n",
        "  print(num ,\"x\",i, \"=\",i*num)"
      ],
      "metadata": {
        "id": "73ibux5S8BlZ",
        "outputId": "df6e8f74-1a68-4ba0-890a-f11fd4581090",
        "colab": {
          "base_uri": "https://localhost:8080/"
        }
      },
      "execution_count": null,
      "outputs": [
        {
          "output_type": "stream",
          "name": "stdout",
          "text": [
            "Number: 6\n",
            "6 x 1 = 6\n",
            "6 x 2 = 12\n",
            "6 x 3 = 18\n",
            "6 x 4 = 24\n",
            "6 x 5 = 30\n",
            "6 x 6 = 36\n",
            "6 x 7 = 42\n",
            "6 x 8 = 48\n",
            "6 x 9 = 54\n"
          ]
        }
      ]
    },
    {
      "cell_type": "code",
      "source": [
        "all_cities=[\"Karschi\",\"Islamabad\",\"Lahore\"]\n",
        "city = \"Karachi\"\n",
        "for i in all_cities:\n",
        "  if i ==city:\n",
        "    print(i,\"is clean city\")\n",
        "  else:\n",
        "    print(i,\"is not a clean city\")"
      ],
      "metadata": {
        "id": "nxatK96-880U",
        "outputId": "7c6e9c70-f5f2-41e6-c59c-19997972a735",
        "colab": {
          "base_uri": "https://localhost:8080/"
        }
      },
      "execution_count": null,
      "outputs": [
        {
          "output_type": "stream",
          "name": "stdout",
          "text": [
            "Karschi is not a clean city\n",
            "Islamabad is not a clean city\n",
            "Lahore is not a clean city\n"
          ]
        }
      ]
    },
    {
      "cell_type": "code",
      "source": [
        "all_cities=[\"Karschi\",\"Islamabad\",\"Lahore\"]\n",
        "city = \"Karachi\"\n",
        "for i in all_cities:\n",
        "  if i ==city:\n",
        "    print(i,\"is clean city\")\n",
        "    break\n",
        "  else:\n",
        "    print(i,\"is not a clean city\")"
      ],
      "metadata": {
        "id": "kesTSrDw-YsL",
        "outputId": "ce7ee2e4-e051-4597-f606-4ab6d7c9e6c3",
        "colab": {
          "base_uri": "https://localhost:8080/"
        }
      },
      "execution_count": null,
      "outputs": [
        {
          "output_type": "stream",
          "name": "stdout",
          "text": [
            "Karschi is not a clean city\n",
            "Islamabad is not a clean city\n",
            "Lahore is not a clean city\n"
          ]
        }
      ]
    },
    {
      "cell_type": "code",
      "source": [],
      "metadata": {
        "id": "L25V04cCBr8E"
      },
      "execution_count": null,
      "outputs": []
    }
  ],
  "metadata": {
    "colab": {
      "toc_visible": true,
      "provenance": []
    },
    "kernelspec": {
      "display_name": "Python 3",
      "name": "python3"
    }
  },
  "nbformat": 4,
  "nbformat_minor": 0
}