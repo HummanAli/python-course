{
  "cells": [
    {
      "cell_type": "code",
      "source": [
        "name=('Please enter your name: \"' )\n",
        "print(\"Hello, \" , name , \"!\")"
      ],
      "metadata": {
        "colab": {
          "base_uri": "https://localhost:8080/"
        },
        "id": "qk6GkuIxqu3v",
        "outputId": "358e5c91-1555-4dc2-ed2b-5abf1111ecc3"
      },
      "execution_count": 8,
      "outputs": [
        {
          "output_type": "stream",
          "name": "stdout",
          "text": [
            "Hello,  Please enter your name: \" !\n"
          ]
        }
      ]
    },
    {
      "cell_type": "code",
      "source": [
        "#Program to check input\n",
        "num=input(\"Enter number :\")\n",
        "print(num)\n",
        "name1 = input(\"Enter name :\")\n",
        "print(name1)\n",
        "\n",
        "#Printing type of input value\n",
        "print(\"type of number\",type(num))\n",
        "print(\"type of name\" ,type(name1))"
      ],
      "metadata": {
        "colab": {
          "base_uri": "https://localhost:8080/"
        },
        "id": "ELOh-T2G60Dy",
        "outputId": "bb9113bf-bcfc-4517-c47b-d1c3f4308d4f"
      },
      "execution_count": 9,
      "outputs": [
        {
          "output_type": "stream",
          "name": "stdout",
          "text": [
            "Enter number :humman\n",
            "humman\n",
            "Enter name :Humman\n",
            "Humman\n",
            "type of number <class 'str'>\n",
            "type of name <class 'str'>\n"
          ]
        }
      ]
    },
    {
      "cell_type": "code",
      "source": [
        "first_number=str ( input (\"Enter first name\" ) )\n",
        "second_number=str(input(\"Enter second number\"))\n",
        "\n",
        "sum=(first_number + second_number)\n",
        "print(\"Addition of two number is: \", sum)"
      ],
      "metadata": {
        "colab": {
          "base_uri": "https://localhost:8080/"
        },
        "id": "rP9Xl0Je7vQZ",
        "outputId": "d163ee56-cb87-4f2e-f7a4-2522aacb2b47"
      },
      "execution_count": 13,
      "outputs": [
        {
          "output_type": "stream",
          "name": "stdout",
          "text": [
            "Enter first nameHumman\n",
            "Enter second numberAli\n",
            "Addition of two number is:  HummanAli\n"
          ]
        }
      ]
    },
    {
      "cell_type": "code",
      "source": [
        "age = 23\n",
        "message = \"Happy \" + age + \"rd Birthday !\"\n",
        "print(message)"
      ],
      "metadata": {
        "colab": {
          "base_uri": "https://localhost:8080/",
          "height": 200
        },
        "id": "6G6IdkOMBaah",
        "outputId": "df45b381-1e39-418d-daa3-234afdab40a6"
      },
      "execution_count": 17,
      "outputs": [
        {
          "output_type": "error",
          "ename": "TypeError",
          "evalue": "ignored",
          "traceback": [
            "\u001b[0;31m---------------------------------------------------------------------------\u001b[0m",
            "\u001b[0;31mTypeError\u001b[0m                                 Traceback (most recent call last)",
            "\u001b[0;32m<ipython-input-17-5b06414462fd>\u001b[0m in \u001b[0;36m<cell line: 2>\u001b[0;34m()\u001b[0m\n\u001b[1;32m      1\u001b[0m \u001b[0mage\u001b[0m \u001b[0;34m=\u001b[0m \u001b[0;36m23\u001b[0m\u001b[0;34m\u001b[0m\u001b[0;34m\u001b[0m\u001b[0m\n\u001b[0;32m----> 2\u001b[0;31m \u001b[0mmessage\u001b[0m \u001b[0;34m=\u001b[0m \u001b[0;34m\"Happy \"\u001b[0m \u001b[0;34m+\u001b[0m \u001b[0mage\u001b[0m \u001b[0;34m+\u001b[0m \u001b[0;34m\"rd Birthday !\"\u001b[0m\u001b[0;34m\u001b[0m\u001b[0;34m\u001b[0m\u001b[0m\n\u001b[0m\u001b[1;32m      3\u001b[0m \u001b[0mprint\u001b[0m\u001b[0;34m(\u001b[0m\u001b[0mmessage\u001b[0m\u001b[0;34m)\u001b[0m\u001b[0;34m\u001b[0m\u001b[0;34m\u001b[0m\u001b[0m\n",
            "\u001b[0;31mTypeError\u001b[0m: can only concatenate str (not \"int\") to str"
          ]
        }
      ]
    },
    {
      "cell_type": "code",
      "source": [
        "a=5\n",
        "print(\"a =\", a, seo='0', end=',')"
      ],
      "metadata": {
        "colab": {
          "base_uri": "https://localhost:8080/",
          "height": 183
        },
        "id": "m4QJXn_tCKj0",
        "outputId": "2e2eeeb2-555d-4fdf-90d7-a85cca3b78d4"
      },
      "execution_count": 18,
      "outputs": [
        {
          "output_type": "error",
          "ename": "TypeError",
          "evalue": "ignored",
          "traceback": [
            "\u001b[0;31m---------------------------------------------------------------------------\u001b[0m",
            "\u001b[0;31mTypeError\u001b[0m                                 Traceback (most recent call last)",
            "\u001b[0;32m<ipython-input-18-c00fb98a2edd>\u001b[0m in \u001b[0;36m<cell line: 2>\u001b[0;34m()\u001b[0m\n\u001b[1;32m      1\u001b[0m \u001b[0ma\u001b[0m\u001b[0;34m=\u001b[0m\u001b[0;36m5\u001b[0m\u001b[0;34m\u001b[0m\u001b[0;34m\u001b[0m\u001b[0m\n\u001b[0;32m----> 2\u001b[0;31m \u001b[0mprint\u001b[0m\u001b[0;34m(\u001b[0m\u001b[0;34m\"a =\"\u001b[0m\u001b[0;34m,\u001b[0m \u001b[0ma\u001b[0m\u001b[0;34m,\u001b[0m \u001b[0mseo\u001b[0m\u001b[0;34m=\u001b[0m\u001b[0;34m'0'\u001b[0m\u001b[0;34m,\u001b[0m \u001b[0mend\u001b[0m\u001b[0;34m=\u001b[0m\u001b[0;34m','\u001b[0m\u001b[0;34m)\u001b[0m\u001b[0;34m\u001b[0m\u001b[0;34m\u001b[0m\u001b[0m\n\u001b[0m",
            "\u001b[0;31mTypeError\u001b[0m: 'seo' is an invalid keyword argument for print()"
          ]
        }
      ]
    },
    {
      "cell_type": "code",
      "source": [
        "name = input(\"Enter Employee Name \")\n",
        "salary =input(\"Enter Salary\")\n",
        "company =input(\"Enter Company name\")\n",
        "print(\"Printing Employee Details\")\n",
        "print(\"Name\" , \"Salary\" , \"Company\")\n",
        "print (\"name, salary, comany\")"
      ],
      "metadata": {
        "colab": {
          "base_uri": "https://localhost:8080/"
        },
        "id": "CX9OkC38Cxpb",
        "outputId": "4324cb03-54c0-4342-ba34-c9a1a9779b2e"
      },
      "execution_count": 22,
      "outputs": [
        {
          "output_type": "stream",
          "name": "stdout",
          "text": [
            "Enter Employee Name Humman\n",
            "Enter Salary10000\n",
            "Enter Company nameIndus\n",
            "Printing Employee Details\n",
            "Name Salary Company\n",
            "name, salary, comany\n"
          ]
        }
      ]
    },
    {
      "cell_type": "code",
      "source": [
        "age = 17\n",
        "natianallty =\"Pakistani\"\n",
        "\n",
        "\n",
        "if age >= 18:\n",
        "  if natianallty == \"Pakistani\":\n",
        "    print(\"OK\")\n",
        "  else:\n",
        "    print(\"Not OK\")\n",
        "\n",
        "else:\n",
        "  print(\"ABCD\")  "
      ],
      "metadata": {
        "colab": {
          "base_uri": "https://localhost:8080/"
        },
        "id": "3Q6Bbk4uCyer",
        "outputId": "240f67bf-3a85-452d-ec84-1a53cef3aa58"
      },
      "execution_count": 23,
      "outputs": [
        {
          "output_type": "stream",
          "name": "stdout",
          "text": [
            "ABCD\n"
          ]
        }
      ]
    },
    {
      "cell_type": "code",
      "source": [
        "age = 17\n",
        "natianallty =\"Pakistani\"\n",
        "\n",
        "\n",
        "if age >= 18 and natianallty == \"Pakistani\":\n",
        "    print(\"OK\")\n",
        "else:\n",
        "    print(\"Not OK\") "
      ],
      "metadata": {
        "colab": {
          "base_uri": "https://localhost:8080/"
        },
        "id": "CvtbjAx2CyRj",
        "outputId": "c2c280e5-7aff-4c43-d75a-2c3ff2f343be"
      },
      "execution_count": 24,
      "outputs": [
        {
          "output_type": "stream",
          "name": "stdout",
          "text": [
            "Not OK\n"
          ]
        }
      ]
    },
    {
      "cell_type": "code",
      "source": [
        "age = 18\n",
        "natianallty =\"Pakistani\"\n",
        "\n",
        "\n",
        "if age == 18 or natianallty == \"Pakistani\":\n",
        "    print(\"OK\")\n",
        "else:\n",
        "    print(\"Not OK\") "
      ],
      "metadata": {
        "id": "bD39uq7iWfgn",
        "outputId": "bb529f8b-f9c3-4e51-c75c-17f554fd344f",
        "colab": {
          "base_uri": "https://localhost:8080/"
        }
      },
      "execution_count": 25,
      "outputs": [
        {
          "output_type": "stream",
          "name": "stdout",
          "text": [
            "OK\n"
          ]
        }
      ]
    }
  ],
  "metadata": {
    "colab": {
      "name": "Welcome To Colaboratory",
      "toc_visible": true,
      "provenance": []
    },
    "kernelspec": {
      "display_name": "Python 3",
      "name": "python3"
    }
  },
  "nbformat": 4,
  "nbformat_minor": 0
}